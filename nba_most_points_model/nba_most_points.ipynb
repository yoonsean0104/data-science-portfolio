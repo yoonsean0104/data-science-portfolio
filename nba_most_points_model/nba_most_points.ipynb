{
 "cells": [
  {
   "cell_type": "code",
   "execution_count": null,
   "id": "ff80fcb0",
   "metadata": {},
   "outputs": [],
   "source": [
    "# Import necessary libraries\n",
    "import pandas as pd\n",
    "from sklearn.model_selection import train_test_split\n",
    "from sklearn.preprocessing import StandardScaler\n",
    "from sklearn.ensemble import GradientBoostingRegressor\n",
    "from sklearn.metrics import mean_squared_error, r2_score\n",
    "from sklearn.pipeline import make_pipeline\n",
    "from sklearn.feature_selection import SelectKBest, f_regression\n"
   ]
  },
  {
   "cell_type": "code",
   "execution_count": null,
   "id": "e430b7cc",
   "metadata": {},
   "outputs": [],
   "source": [
    "# Load and preprocess the dataset\n",
    "def load_and_preprocess_data(file_path):\n",
    "    df = pd.read_csv(file_path)\n",
    "    # Handle null values - assuming dropping rows with any null value\n",
    "    df.dropna(inplace=True)\n",
    "    \n",
    "    # Convert 'GameType' into binary feature (0 for regular season, 1 for playoff)\n",
    "    df['GameType'] = df['GameType'].apply(lambda x: 1 if x.lower() == 'playoff' else 0)\n",
    "    \n",
    "    features = df[['AvgPointsPerGame', 'ShotAccuracy', 'TeamPointAllowance', \n",
    "                   'ThreePointsMade', 'TotalReboundsAndAssists', 'GameType']]\n",
    "    target = df['TotalPoints']\n",
    "    return features, target\n"
   ]
  },
  {
   "cell_type": "code",
   "execution_count": null,
   "id": "d508ff81",
   "metadata": {},
   "outputs": [],
   "source": [
    "def feature_engineering_and_ranking(X, y):\n",
    "    # Standardize features\n",
    "    scaler = StandardScaler()\n",
    "    X_scaled = scaler.fit_transform(X)\n",
    "    \n",
    "    # Fit model to get feature importances\n",
    "    model = GradientBoostingRegressor(n_estimators=235, learning_rate=0.2, max_depth=4, random_state=42)\n",
    "    model.fit(X_scaled, y)\n",
    "    \n",
    "    # Get feature importance scores\n",
    "    importances = model.feature_importances_\n",
    "    feature_names = X.columns\n",
    "    feature_importance_ranking = sorted(zip(importances, feature_names), reverse=True)\n",
    "    \n",
    "    print(\"Feature Importance Ranking:\")\n",
    "    for importance, name in feature_importance_ranking:\n",
    "        print(f\"{name}: {importance}\")\n",
    "    \n",
    "    return model  # Returning model for further use if needed"
   ]
  },
  {
   "cell_type": "code",
   "execution_count": null,
   "id": "0d93b11a",
   "metadata": {},
   "outputs": [],
   "source": [
    "# Main function for model training and evaluation\n",
    "def train_and_evaluate(features, target):\n",
    "    X_train, X_test, y_train, y_test = train_test_split(features, target, test_size=0.2, random_state=42)\n",
    "    \n",
    "    # Feature engineering and ranking\n",
    "    model = feature_engineering_and_ranking(X_train, y_train)\n",
    "    \n",
    "    # Evaluation pipeline\n",
    "    pipeline = Pipeline([('scaler', StandardScaler()), ('model', model)])\n",
    "    \n",
    "    # Predictions\n",
    "    predictions = pipeline.predict(X_test)\n",
    "    \n",
    "    # Evaluation metrics\n",
    "    mse = mean_squared_error(y_test, predictions)\n",
    "    mae = mean_absolute_error(y_test, predictions)\n",
    "    r2 = r2_score(y_test, predictions)\n",
    "    explained_variance = explained_variance_score(y_test, predictions)\n",
    "    \n",
    "    print(f'Mean Squared Error: {mse}')\n",
    "    print(f'Mean Absolute Error: {mae}')\n",
    "    print(f'R^2 Score: {r2}')\n",
    "    print(f'Explained Variance Score: {explained_variance}')"
   ]
  },
  {
   "cell_type": "code",
   "execution_count": null,
   "id": "eb4b0e7b",
   "metadata": {},
   "outputs": [],
   "source": [
    "if __name__ == \"__main__\":\n",
    "    file_path = \"nba_player_data.csv\"  # Update with the actual path to your dataset\n",
    "    features, target = load_and_preprocess_data(file_path)\n",
    "    features_selected = feature_engineering(features)\n",
    "    train_and_evaluate(features_selected, target)"
   ]
  }
 ],
 "metadata": {
  "kernelspec": {
   "display_name": "Python 3 (ipykernel)",
   "language": "python",
   "name": "python3"
  },
  "language_info": {
   "codemirror_mode": {
    "name": "ipython",
    "version": 3
   },
   "file_extension": ".py",
   "mimetype": "text/x-python",
   "name": "python",
   "nbconvert_exporter": "python",
   "pygments_lexer": "ipython3",
   "version": "3.11.5"
  }
 },
 "nbformat": 4,
 "nbformat_minor": 5
}
