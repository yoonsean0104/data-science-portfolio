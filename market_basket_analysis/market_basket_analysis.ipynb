{
 "cells": [
  {
   "cell_type": "code",
   "execution_count": null,
   "id": "542c0055",
   "metadata": {},
   "outputs": [],
   "source": [
    "# Import necessary libraries\n",
    "import pandas as pd\n",
    "from mlxtend.frequent_patterns import apriori, association_rules\n",
    "from mlxtend.preprocessing import TransactionEncoder"
   ]
  },
  {
   "cell_type": "code",
   "execution_count": null,
   "id": "c92e04e0",
   "metadata": {},
   "outputs": [],
   "source": [
    "# Function to load and preprocess data\n",
    "def load_data(file_path):\n",
    "    \"\"\"\n",
    "    Load and preprocess the dataset.\n",
    "    Args:\n",
    "    - file_path: str, path to the dataset file\n",
    "    Returns:\n",
    "    - DataFrame of preprocessed transactions\n",
    "    \"\"\"\n",
    "    # Assume dataset is a list of transactions with items separated by commas\n",
    "    with open(file_path, 'r') as file:\n",
    "        transactions = [line.strip().split(',') for line in file.readlines()]\n",
    "\n",
    "    te = TransactionEncoder()\n",
    "    te_ary = te.fit(transactions).transform(transactions)\n",
    "    df = pd.DataFrame(te_ary, columns=te.columns_)\n",
    "    return df"
   ]
  },
  {
   "cell_type": "code",
   "execution_count": null,
   "id": "c42cad7e",
   "metadata": {},
   "outputs": [],
   "source": [
    "# Function to perform market basket analysis\n",
    "def market_basket_analysis(df, min_support=0.01, use_colnames=True, max_len=None):\n",
    "    \"\"\"\n",
    "    Perform market basket analysis to find frequent itemsets and association rules.\n",
    "    Args:\n",
    "    - df: DataFrame, transactions dataframe\n",
    "    - min_support: float, minimum support threshold for itemsets\n",
    "    - use_colnames: bool, if True, use item names instead of column indices\n",
    "    - max_len: int, maximum length of the itemsets generated\n",
    "    Returns:\n",
    "    - rules: DataFrame, association rules sorted by confidence\n",
    "    \"\"\"\n",
    "    # Generate frequent itemsets\n",
    "    frequent_itemsets = apriori(df, min_support=min_support, use_colnames=use_colnames, max_len=max_len)\n",
    "    \n",
    "    # Generate association rules\n",
    "    rules = association_rules(frequent_itemsets, metric=\"confidence\", min_threshold=0.1)\n",
    "    rules = rules.sort_values(by=\"confidence\", ascending=False)\n",
    "    return rules"
   ]
  },
  {
   "cell_type": "code",
   "execution_count": null,
   "id": "7b4fc6fe",
   "metadata": {},
   "outputs": [],
   "source": [
    "if __name__ == \"__main__\":\n",
    "    # Load and preprocess the dataset\n",
    "    file_path = \"dataset.csv\" # Update with the actual path to your dataset\n",
    "    df = load_data(file_path)\n",
    "\n",
    "    # Perform market basket analysis\n",
    "    rules = market_basket_analysis(df)\n",
    "    \n",
    "    # Display top 10 association rules\n",
    "    print(\"Top 10 Association Rules by Confidence:\")\n",
    "    print(rules.head(10))"
   ]
  }
 ],
 "metadata": {
  "kernelspec": {
   "display_name": "Python 3 (ipykernel)",
   "language": "python",
   "name": "python3"
  },
  "language_info": {
   "codemirror_mode": {
    "name": "ipython",
    "version": 3
   },
   "file_extension": ".py",
   "mimetype": "text/x-python",
   "name": "python",
   "nbconvert_exporter": "python",
   "pygments_lexer": "ipython3",
   "version": "3.11.5"
  }
 },
 "nbformat": 4,
 "nbformat_minor": 5
}
