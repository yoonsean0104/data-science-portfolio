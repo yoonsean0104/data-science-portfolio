{
 "cells": [
  {
   "cell_type": "code",
   "execution_count": null,
   "id": "542c0055",
   "metadata": {},
   "outputs": [],
   "source": [
    "# Import necessary libraries\n",
    "import pandas as pd\n",
    "from mlxtend.frequent_patterns import apriori, association_rules\n",
    "from mlxtend.preprocessing import TransactionEncoder"
   ]
  },
  {
   "cell_type": "code",
   "execution_count": null,
   "id": "c92e04e0",
   "metadata": {},
   "outputs": [],
   "source": [
    "# Function to load and preprocess data\n",
    "def load_data(file_path):\n",
    "    \"\"\"\n",
    "    Load and preprocess the dataset. Transactions are expected to be in a CSV file,\n",
    "    with each line representing a transaction and items separated by commas.\n",
    "    \n",
    "    Args:\n",
    "        file_path (str): Path to the dataset file.\n",
    "        \n",
    "    Returns:\n",
    "        pd.DataFrame: DataFrame of preprocessed transactions in one-hot encoded format.\n",
    "    \"\"\"\n",
    "    try:\n",
    "        with open(file_path, 'r') as file:\n",
    "            transactions = [line.strip().split(',') for line in file.readlines() if line.strip()]\n",
    "        \n",
    "        te = TransactionEncoder()\n",
    "        te_ary = te.fit(transactions).transform(transactions)\n",
    "        df = pd.DataFrame(te_ary, columns=te.columns_)\n",
    "        return df\n",
    "    except Exception as e:\n",
    "        print(f\"Error loading data: {e}\")\n",
    "        return pd.DataFrame()"
   ]
  },
  {
   "cell_type": "code",
   "execution_count": null,
   "id": "c42cad7e",
   "metadata": {},
   "outputs": [],
   "source": [
    "# Function to perform market basket analysis\n",
    "def market_basket_analysis(df, min_support=0.01, use_colnames=True, max_len=None):\n",
    "    \"\"\"\n",
    "    Perform market basket analysis to find frequent itemsets and generate association rules.\n",
    "    \n",
    "    Args:\n",
    "        df (pd.DataFrame): Transactions DataFrame in one-hot encoded format.\n",
    "        min_support (float): Minimum support threshold for itemsets.\n",
    "        use_colnames (bool): If True, use item names instead of column indices.\n",
    "        max_len (int): Maximum length of the itemsets generated.\n",
    "        \n",
    "    Returns:\n",
    "        pd.DataFrame: DataFrame containing association rules sorted by confidence.\n",
    "    \"\"\"\n",
    "    try:\n",
    "        frequent_itemsets = apriori(df, min_support=min_support, use_colnames=use_colnames, max_len=max_len)\n",
    "        rules = association_rules(frequent_itemsets, metric=\"confidence\", min_threshold=0.1)\n",
    "        rules = rules.sort_values(by=\"confidence\", ascending=False)\n",
    "        return rules\n",
    "    except Exception as e:\n",
    "        print(f\"Error in market basket analysis: {e}\")\n",
    "        return pd.DataFrame()\n"
   ]
  },
  {
   "cell_type": "code",
   "execution_count": null,
   "id": "62218b00",
   "metadata": {},
   "outputs": [],
   "source": [
    "# Analysis to include insights\n",
    "def display_insights(rules):\n",
    "    \"\"\"\n",
    "    Display insights from the generated association rules, including top rules and itemsets.\n",
    "    \n",
    "    Args:\n",
    "        rules (pd.DataFrame): DataFrame containing association rules.\n",
    "    \"\"\"\n",
    "    if not rules.empty:\n",
    "        print(\"Top 10 Association Rules by Confidence:\")\n",
    "        print(rules.head(10))\n",
    "        \n",
    "        # Display additional insights\n",
    "        print(\"\\nTop 10 Lift Scores:\")\n",
    "        print(rules.sort_values(by=\"lift\", ascending=False).head(10))\n",
    "    else:\n",
    "        print(\"No rules generated or empty rules DataFrame.\")"
   ]
  },
  {
   "cell_type": "code",
   "execution_count": null,
   "id": "7b4fc6fe",
   "metadata": {},
   "outputs": [],
   "source": [
    "if __name__ == \"__main__\":\n",
    "    file_path = \"dataset.csv\"  # Update with the actual path to your dataset\n",
    "    df = load_data(file_path)\n",
    "    \n",
    "    if not df.empty:\n",
    "        rules = market_basket_analysis(df)\n",
    "        display_insights(rules)\n",
    "    else:\n",
    "        print(\"Data loading failed or empty DataFrame.\")"
   ]
  }
 ],
 "metadata": {
  "kernelspec": {
   "display_name": "Python 3 (ipykernel)",
   "language": "python",
   "name": "python3"
  },
  "language_info": {
   "codemirror_mode": {
    "name": "ipython",
    "version": 3
   },
   "file_extension": ".py",
   "mimetype": "text/x-python",
   "name": "python",
   "nbconvert_exporter": "python",
   "pygments_lexer": "ipython3",
   "version": "3.11.5"
  }
 },
 "nbformat": 4,
 "nbformat_minor": 5
}
